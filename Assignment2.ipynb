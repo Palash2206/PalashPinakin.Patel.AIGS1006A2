{
  "nbformat": 4,
  "nbformat_minor": 0,
  "metadata": {
    "colab": {
      "provenance": []
    },
    "kernelspec": {
      "name": "python3",
      "display_name": "Python 3"
    },
    "language_info": {
      "name": "python"
    }
  },
  "cells": [
    {
      "cell_type": "code",
      "execution_count": 37,
      "metadata": {
        "colab": {
          "base_uri": "https://localhost:8080/"
        },
        "id": "8Ze8oEIvHPoY",
        "outputId": "719d3821-e54b-42b5-8139-e467c3421531"
      },
      "outputs": [
        {
          "output_type": "stream",
          "name": "stdout",
          "text": [
            "<class 'pandas.core.frame.DataFrame'>\n",
            "Int64Index: 9752 entries, 1 to 9752\n",
            "Data columns (total 7 columns):\n",
            " #   Column         Non-Null Count  Dtype  \n",
            "---  ------         --------------  -----  \n",
            " 0   date           9752 non-null   object \n",
            " 1   Temperature    9752 non-null   float64\n",
            " 2   Humidity       9752 non-null   float64\n",
            " 3   Light          9752 non-null   float64\n",
            " 4   CO2            9752 non-null   float64\n",
            " 5   HumidityRatio  9752 non-null   float64\n",
            " 6   Occupancy      9752 non-null   int64  \n",
            "dtypes: float64(5), int64(1), object(1)\n",
            "memory usage: 609.5+ KB\n"
          ]
        }
      ],
      "source": [
        "import tensorflow as tf\n",
        "from tensorflow.keras.layers import Dense\n",
        "import pandas as pd\n",
        "import numpy as np\n",
        "import matplotlib.pyplot as plt\n",
        "from sklearn.model_selection import train_test_split\n",
        "\n",
        "testingdata = pd.read_csv('testData.txt', sep=',')\n",
        "trainingdata = pd.read_csv('trainData.txt', sep=',')\n",
        "\n",
        "testingdata.info()"
      ]
    },
    {
      "cell_type": "code",
      "source": [
        "trainingdata.info()"
      ],
      "metadata": {
        "colab": {
          "base_uri": "https://localhost:8080/"
        },
        "id": "Am1KKdFmH1U7",
        "outputId": "c28a847e-74cf-4a99-edb9-495df4cb9792"
      },
      "execution_count": 38,
      "outputs": [
        {
          "output_type": "stream",
          "name": "stdout",
          "text": [
            "<class 'pandas.core.frame.DataFrame'>\n",
            "Int64Index: 8143 entries, 1 to 8143\n",
            "Data columns (total 7 columns):\n",
            " #   Column         Non-Null Count  Dtype  \n",
            "---  ------         --------------  -----  \n",
            " 0   date           8143 non-null   object \n",
            " 1   Temperature    8143 non-null   float64\n",
            " 2   Humidity       8143 non-null   float64\n",
            " 3   Light          8143 non-null   float64\n",
            " 4   CO2            8143 non-null   float64\n",
            " 5   HumidityRatio  8143 non-null   float64\n",
            " 6   Occupancy      8143 non-null   int64  \n",
            "dtypes: float64(5), int64(1), object(1)\n",
            "memory usage: 508.9+ KB\n"
          ]
        }
      ]
    },
    {
      "cell_type": "code",
      "source": [
        "print(testingdata.shape)\n",
        "print(trainingdata.shape)"
      ],
      "metadata": {
        "colab": {
          "base_uri": "https://localhost:8080/"
        },
        "id": "8yTD0ivsIHzk",
        "outputId": "32511f68-a376-47e2-8d83-6fe3ede0b746"
      },
      "execution_count": 39,
      "outputs": [
        {
          "output_type": "stream",
          "name": "stdout",
          "text": [
            "(9752, 7)\n",
            "(8143, 7)\n"
          ]
        }
      ]
    },
    {
      "cell_type": "code",
      "source": [
        "X = trainingdata.iloc[:5000, 1:6]\n",
        "Y = testingdata.iloc[:5000, -1:]\n",
        "\n",
        "train_x, test_x, train_y, test_y = train_test_split(X, Y, test_size=0.2, random_state=0)\n",
        "print(train_x.shape, train_y.shape, test_x.shape, test_y.shape)"
      ],
      "metadata": {
        "colab": {
          "base_uri": "https://localhost:8080/"
        },
        "id": "ll3fL1LuILpL",
        "outputId": "fae97da5-58b0-40ae-94a4-da403baa553b"
      },
      "execution_count": 40,
      "outputs": [
        {
          "output_type": "stream",
          "name": "stdout",
          "text": [
            "(4000, 5) (4000, 1) (1000, 5) (1000, 1)\n"
          ]
        }
      ]
    },
    {
      "cell_type": "code",
      "source": [
        "model1 = tf.keras.Sequential()\n",
        "model1.add(Dense(16, activation='relu',input_shape=(5, ))) \n",
        "model1.add(Dense(32, activation='softplus')) \n",
        "model1.add(Dense(1, activation='sigmoid')) \n",
        "model1.summary()"
      ],
      "metadata": {
        "colab": {
          "base_uri": "https://localhost:8080/"
        },
        "id": "Y4nIt_8EINo6",
        "outputId": "57bed825-8850-4b5a-fddc-b347d9cf99d9"
      },
      "execution_count": 41,
      "outputs": [
        {
          "output_type": "stream",
          "name": "stdout",
          "text": [
            "Model: \"sequential_4\"\n",
            "_________________________________________________________________\n",
            " Layer (type)                Output Shape              Param #   \n",
            "=================================================================\n",
            " dense_14 (Dense)            (None, 16)                96        \n",
            "                                                                 \n",
            " dense_15 (Dense)            (None, 32)                544       \n",
            "                                                                 \n",
            " dense_16 (Dense)            (None, 1)                 33        \n",
            "                                                                 \n",
            "=================================================================\n",
            "Total params: 673\n",
            "Trainable params: 673\n",
            "Non-trainable params: 0\n",
            "_________________________________________________________________\n"
          ]
        }
      ]
    },
    {
      "cell_type": "code",
      "source": [
        "loss_function = tf.keras.losses.BinaryCrossentropy()\n",
        "model1.compile(optimizer= 'adam', loss= loss_function, metrics=['accuracy'])"
      ],
      "metadata": {
        "id": "OohZI0MvIScb"
      },
      "execution_count": 42,
      "outputs": []
    },
    {
      "cell_type": "code",
      "source": [
        "training_loss, training_acc = model1.evaluate(train_x, train_y)\n",
        "testing_loss, testing_acc = model1.evaluate(test_x, test_y)"
      ],
      "metadata": {
        "colab": {
          "base_uri": "https://localhost:8080/"
        },
        "id": "O-NBCx_IIUnn",
        "outputId": "946975ba-196e-478a-9b0f-5634bab85d90"
      },
      "execution_count": 43,
      "outputs": [
        {
          "output_type": "stream",
          "name": "stdout",
          "text": [
            "125/125 [==============================] - 0s 2ms/step - loss: 2.9502 - accuracy: 0.8110\n",
            "32/32 [==============================] - 0s 2ms/step - loss: 3.1387 - accuracy: 0.8040\n"
          ]
        }
      ]
    },
    {
      "cell_type": "code",
      "source": [
        "pred = model1.predict(test_x)\n",
        "test_pred = np.argmax(pred, axis = 1)\n",
        "confusion_matrix = tf.math.confusion_matrix(labels= test_y, predictions=test_pred)\n",
        "print(confusion_matrix)"
      ],
      "metadata": {
        "colab": {
          "base_uri": "https://localhost:8080/"
        },
        "id": "_XUpdt_gIWw0",
        "outputId": "2d9e56b8-f50a-4c80-e696-cd9d0e11e8ec"
      },
      "execution_count": 44,
      "outputs": [
        {
          "output_type": "stream",
          "name": "stdout",
          "text": [
            "32/32 [==============================] - 0s 1ms/step\n",
            "tf.Tensor(\n",
            "[[804   0]\n",
            " [196   0]], shape=(2, 2), dtype=int32)\n"
          ]
        }
      ]
    },
    {
      "cell_type": "code",
      "source": [
        "fitModel = model1.fit(train_x, train_y, epochs = 5, validation_split = 0.3)\n",
        "\n",
        "plt.plot(fitModel.history['accuracy'])\n",
        "plt.plot(fitModel.history['val_accuracy'])\n",
        "plt.legend(['Training accuracy', 'Validation accuracy'])\n",
        "plt.title('Trianing and Validation Accuracies')\n",
        "plt.xlabel('Epoch#')\n",
        "plt.ylabel('Accuracy')"
      ],
      "metadata": {
        "colab": {
          "base_uri": "https://localhost:8080/",
          "height": 486
        },
        "id": "TP1K6J6iIYUj",
        "outputId": "2ec4dae7-8a67-4b23-fb83-a47a647c1fb6"
      },
      "execution_count": 45,
      "outputs": [
        {
          "output_type": "stream",
          "name": "stdout",
          "text": [
            "Epoch 1/5\n",
            "88/88 [==============================] - 1s 3ms/step - loss: 0.8571 - accuracy: 0.7743 - val_loss: 0.6996 - val_accuracy: 0.6975\n",
            "Epoch 2/5\n",
            "88/88 [==============================] - 0s 3ms/step - loss: 0.5144 - accuracy: 0.7861 - val_loss: 0.4700 - val_accuracy: 0.8083\n",
            "Epoch 3/5\n",
            "88/88 [==============================] - 0s 3ms/step - loss: 0.4617 - accuracy: 0.8057 - val_loss: 0.5642 - val_accuracy: 0.8067\n",
            "Epoch 4/5\n",
            "88/88 [==============================] - 0s 3ms/step - loss: 0.5335 - accuracy: 0.7993 - val_loss: 0.4392 - val_accuracy: 0.8200\n",
            "Epoch 5/5\n",
            "88/88 [==============================] - 0s 3ms/step - loss: 0.4200 - accuracy: 0.8204 - val_loss: 0.4526 - val_accuracy: 0.8083\n"
          ]
        },
        {
          "output_type": "execute_result",
          "data": {
            "text/plain": [
              "Text(0, 0.5, 'Accuracy')"
            ]
          },
          "metadata": {},
          "execution_count": 45
        },
        {
          "output_type": "display_data",
          "data": {
            "text/plain": [
              "<Figure size 432x288 with 1 Axes>"
            ],
            "image/png": "[encoded data removed]"
          },
          "metadata": {
            "needs_background": "light"
          }
        }
      ]
    },
    {
      "cell_type": "code",
      "source": [
        "plt.plot(fitModel.history['loss'])\n",
        "plt.plot(fitModel.history['val_loss'])\n",
        "plt.legend(['Training loss', 'Validation loss'])\n",
        "plt.title('Trianing and Validation Losses')\n",
        "plt.xlabel('Epoch#')\n",
        "plt.ylabel('Loss')"
      ],
      "metadata": {
        "colab": {
          "base_uri": "https://localhost:8080/",
          "height": 312
        },
        "id": "6QiK9YVQIacJ",
        "outputId": "496f4b39-2ad8-42c8-959e-3500fb76f6c9"
      },
      "execution_count": 46,
      "outputs": [
        {
          "output_type": "execute_result",
          "data": {
            "text/plain": [
              "Text(0, 0.5, 'Loss')"
            ]
          },
          "metadata": {},
          "execution_count": 46
        },
        {
          "output_type": "display_data",
          "data": {
            "text/plain": [
              "<Figure size 432x288 with 1 Axes>"
            ],
            "image/png": "[encoded data removed]"
          },
          "metadata": {
            "needs_background": "light"
          }
        }
      ]
    },
    {
      "cell_type": "code",
      "source": [
        "test_predict = model1.predict(test_x)\n",
        "test_predict_labels = np.argmax(test_predict, axis = 1)\n",
        "confusion_matrix = tf.math.confusion_matrix(labels = test_y, predictions = test_predict_labels)\n",
        "print('confusion Matrix\\n', confusion_matrix)"
      ],
      "metadata": {
        "colab": {
          "base_uri": "https://localhost:8080/"
        },
        "id": "pllC49YNIdwM",
        "outputId": "9f36ee3f-57e5-4660-8971-5f4f72761817"
      },
      "execution_count": 47,
      "outputs": [
        {
          "output_type": "stream",
          "name": "stdout",
          "text": [
            "32/32 [==============================] - 0s 8ms/step\n",
            "confusion Matrix\n",
            " tf.Tensor(\n",
            "[[804   0]\n",
            " [196   0]], shape=(2, 2), dtype=int32)\n"
          ]
        }
      ]
    },
    {
      "cell_type": "code",
      "source": [
        "model2 = tf.keras.Sequential()\n",
        "model2.add(Dense(16, activation='relu',input_shape=(5, ))) \n",
        "model2.add(Dense(32, activation='softplus'))\n",
        "model2.add(Dense(32, activation='softplus')) \n",
        "model2.add(Dense(1, activation='sigmoid')) \n",
        "model2.summary()"
      ],
      "metadata": {
        "colab": {
          "base_uri": "https://localhost:8080/"
        },
        "id": "pHijUd4qIfYD",
        "outputId": "cb2e5b9a-8ba7-41df-c0ef-759526d2dad1"
      },
      "execution_count": 48,
      "outputs": [
        {
          "output_type": "stream",
          "name": "stdout",
          "text": [
            "Model: \"sequential_5\"\n",
            "_________________________________________________________________\n",
            " Layer (type)                Output Shape              Param #   \n",
            "=================================================================\n",
            " dense_17 (Dense)            (None, 16)                96        \n",
            "                                                                 \n",
            " dense_18 (Dense)            (None, 32)                544       \n",
            "                                                                 \n",
            " dense_19 (Dense)            (None, 32)                1056      \n",
            "                                                                 \n",
            " dense_20 (Dense)            (None, 1)                 33        \n",
            "                                                                 \n",
            "=================================================================\n",
            "Total params: 1,729\n",
            "Trainable params: 1,729\n",
            "Non-trainable params: 0\n",
            "_________________________________________________________________\n"
          ]
        }
      ]
    },
    {
      "cell_type": "code",
      "source": [
        "lossfunction = tf.keras.losses.BinaryCrossentropy()\n",
        "model2.compile(optimizer= 'adam', loss= lossfunction, metrics=['accuracy'])\n",
        "fitmodel = model2.fit(train_x, train_y, epochs=5, validation_split=0.3)\n",
        "training_loss, training_acc = model2.evaluate(train_x, train_y)\n",
        "testing_loss, testing_acc = model2.evaluate(test_x, test_y)"
      ],
      "metadata": {
        "colab": {
          "base_uri": "https://localhost:8080/"
        },
        "id": "r3xZPGSbIhpz",
        "outputId": "778f320f-fec9-4623-aa62-d506e14124be"
      },
      "execution_count": 49,
      "outputs": [
        {
          "output_type": "stream",
          "name": "stdout",
          "text": [
            "Epoch 1/5\n",
            "88/88 [==============================] - 2s 13ms/step - loss: 2.5544 - accuracy: 0.7014 - val_loss: 0.6262 - val_accuracy: 0.7383\n",
            "Epoch 2/5\n",
            "88/88 [==============================] - 1s 6ms/step - loss: 0.6136 - accuracy: 0.7800 - val_loss: 0.4901 - val_accuracy: 0.7925\n",
            "Epoch 3/5\n",
            "88/88 [==============================] - 1s 7ms/step - loss: 0.5065 - accuracy: 0.7911 - val_loss: 0.4651 - val_accuracy: 0.7992\n",
            "Epoch 4/5\n",
            "88/88 [==============================] - 0s 3ms/step - loss: 0.4279 - accuracy: 0.8164 - val_loss: 0.4032 - val_accuracy: 0.8175\n",
            "Epoch 5/5\n",
            "88/88 [==============================] - 0s 3ms/step - loss: 0.4254 - accuracy: 0.8143 - val_loss: 0.4607 - val_accuracy: 0.7750\n",
            "125/125 [==============================] - 0s 2ms/step - loss: 0.4373 - accuracy: 0.7860\n",
            "32/32 [==============================] - 0s 2ms/step - loss: 0.4533 - accuracy: 0.7790\n"
          ]
        }
      ]
    },
    {
      "cell_type": "code",
      "source": [
        "pred = model2.predict(test_x)\n",
        "test_pred = np.argmax(pred, axis = 1)\n",
        "confusion_matrix = tf.math.confusion_matrix(labels= test_y, predictions=test_pred)\n",
        "print(confusion_matrix)"
      ],
      "metadata": {
        "colab": {
          "base_uri": "https://localhost:8080/"
        },
        "id": "Wh7qmX7qIjuc",
        "outputId": "814b2503-d501-4060-bcf6-6ce369fd7ffd"
      },
      "execution_count": 50,
      "outputs": [
        {
          "output_type": "stream",
          "name": "stdout",
          "text": [
            "32/32 [==============================] - 0s 2ms/step\n",
            "tf.Tensor(\n",
            "[[804   0]\n",
            " [196   0]], shape=(2, 2), dtype=int32)\n"
          ]
        }
      ]
    },
    {
      "cell_type": "code",
      "source": [
        "fitModel = model2.fit(train_x, train_y, epochs = 5, validation_split = 0.3)\n",
        "plt.plot(fitModel.history['accuracy'])\n",
        "plt.plot(fitModel.history['val_accuracy'])\n",
        "plt.legend(['Training accuracy', 'Validation accuracy'])\n",
        "plt.title('Trianing and Validation Accuracies')\n",
        "plt.xlabel('Epoch#')\n",
        "plt.ylabel('Accuracy')"
      ],
      "metadata": {
        "colab": {
          "base_uri": "https://localhost:8080/",
          "height": 486
        },
        "id": "-6eeURm8JatU",
        "outputId": "4940dc0d-d446-489a-9237-124cf0bb87f3"
      },
      "execution_count": 51,
      "outputs": [
        {
          "output_type": "stream",
          "name": "stdout",
          "text": [
            "Epoch 1/5\n",
            "88/88 [==============================] - 0s 3ms/step - loss: 0.4265 - accuracy: 0.8221 - val_loss: 0.4550 - val_accuracy: 0.8042\n",
            "Epoch 2/5\n",
            "88/88 [==============================] - 0s 3ms/step - loss: 0.4193 - accuracy: 0.8132 - val_loss: 0.4128 - val_accuracy: 0.8275\n",
            "Epoch 3/5\n",
            "88/88 [==============================] - 0s 3ms/step - loss: 0.4060 - accuracy: 0.8261 - val_loss: 0.4100 - val_accuracy: 0.7775\n",
            "Epoch 4/5\n",
            "88/88 [==============================] - 0s 3ms/step - loss: 0.3895 - accuracy: 0.8261 - val_loss: 0.3669 - val_accuracy: 0.8200\n",
            "Epoch 5/5\n",
            "88/88 [==============================] - 0s 3ms/step - loss: 0.3866 - accuracy: 0.8293 - val_loss: 0.3614 - val_accuracy: 0.8292\n"
          ]
        },
        {
          "output_type": "execute_result",
          "data": {
            "text/plain": [
              "Text(0, 0.5, 'Accuracy')"
            ]
          },
          "metadata": {},
          "execution_count": 51
        },
        {
          "output_type": "display_data",
          "data": {
            "text/plain": [
              "<Figure size 432x288 with 1 Axes>"
            ],
            "image/png": "[encoded data removed]"
          },
          "metadata": {
            "needs_background": "light"
          }
        }
      ]
    },
    {
      "cell_type": "code",
      "source": [
        "plt.plot(fitModel.history['loss'])\n",
        "plt.plot(fitModel.history['val_loss'])\n",
        "plt.legend(['Training loss', 'Validation loss'])\n",
        "plt.title('Trianing and Validation Losses')\n",
        "plt.xlabel('Epoch#')\n",
        "plt.ylabel('Loss')"
      ],
      "metadata": {
        "colab": {
          "base_uri": "https://localhost:8080/",
          "height": 312
        },
        "id": "UVGkLxWPIlms",
        "outputId": "6dc1291e-c557-4320-f1a2-bbf33d5dea4a"
      },
      "execution_count": 52,
      "outputs": [
        {
          "output_type": "execute_result",
          "data": {
            "text/plain": [
              "Text(0, 0.5, 'Loss')"
            ]
          },
          "metadata": {},
          "execution_count": 52
        },
        {
          "output_type": "display_data",
          "data": {
            "text/plain": [
              "<Figure size 432x288 with 1 Axes>"
            ],
            "image/png": "[encoded data removed]"
          },
          "metadata": {
            "needs_background": "light"
          }
        }
      ]
    }
  ]
}